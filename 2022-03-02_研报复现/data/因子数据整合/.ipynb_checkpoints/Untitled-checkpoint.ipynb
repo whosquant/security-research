{
 "cells": [
  {
   "cell_type": "code",
   "execution_count": 1,
   "id": "80860eb6",
   "metadata": {},
   "outputs": [],
   "source": [
    "import pandas as pd\n",
    "import numpy as np"
   ]
  },
  {
   "cell_type": "markdown",
   "id": "bc2c567e",
   "metadata": {},
   "source": [
    "### 动量因子"
   ]
  },
  {
   "cell_type": "code",
   "execution_count": 4,
   "id": "78272cc9",
   "metadata": {},
   "outputs": [],
   "source": [
    "df1 = pd.read_excel('../动量因子/FINALPRICE.xlsx')"
   ]
  },
  {
   "cell_type": "code",
   "execution_count": null,
   "id": "7234ba48",
   "metadata": {},
   "outputs": [],
   "source": []
  },
  {
   "cell_type": "code",
   "execution_count": null,
   "id": "0e78bc79",
   "metadata": {},
   "outputs": [],
   "source": []
  },
  {
   "cell_type": "markdown",
   "id": "339c7a4e",
   "metadata": {},
   "source": [
    "### 价值因子"
   ]
  },
  {
   "cell_type": "code",
   "execution_count": 8,
   "id": "3dc79d96",
   "metadata": {},
   "outputs": [],
   "source": [
    "df2_1 = pd.read_excel('../价值因子/估价收益率.xlsx',header = 1)"
   ]
  },
  {
   "cell_type": "code",
   "execution_count": null,
   "id": "78d1fbaa",
   "metadata": {},
   "outputs": [],
   "source": []
  },
  {
   "cell_type": "code",
   "execution_count": null,
   "id": "ac1de891",
   "metadata": {},
   "outputs": [],
   "source": []
  },
  {
   "cell_type": "markdown",
   "id": "8742059f",
   "metadata": {},
   "source": [
    "### 偿债指标"
   ]
  },
  {
   "cell_type": "code",
   "execution_count": 12,
   "id": "699a271b",
   "metadata": {},
   "outputs": [],
   "source": [
    "df3_1 = pd.read_excel('../基本面因子偿债指标/流动资产与总资产比率.xlsx',header = 1)"
   ]
  },
  {
   "cell_type": "code",
   "execution_count": null,
   "id": "7745d4d6",
   "metadata": {},
   "outputs": [],
   "source": []
  },
  {
   "cell_type": "code",
   "execution_count": null,
   "id": "855ae62c",
   "metadata": {},
   "outputs": [],
   "source": []
  },
  {
   "cell_type": "markdown",
   "id": "b64301b3",
   "metadata": {},
   "source": [
    "### 成长指标"
   ]
  },
  {
   "cell_type": "code",
   "execution_count": 13,
   "id": "526d552b",
   "metadata": {},
   "outputs": [],
   "source": [
    "df4_1 = pd.read_excel('../基本面因子成长指标/ROE同比增长.xlsx',header = 1)"
   ]
  },
  {
   "cell_type": "code",
   "execution_count": null,
   "id": "dee1294f",
   "metadata": {},
   "outputs": [],
   "source": []
  },
  {
   "cell_type": "code",
   "execution_count": null,
   "id": "a9e9ec5c",
   "metadata": {},
   "outputs": [],
   "source": []
  },
  {
   "cell_type": "code",
   "execution_count": null,
   "id": "1781897b",
   "metadata": {},
   "outputs": [],
   "source": []
  },
  {
   "cell_type": "code",
   "execution_count": null,
   "id": "18bf0bd0",
   "metadata": {},
   "outputs": [],
   "source": []
  },
  {
   "cell_type": "markdown",
   "id": "7ff2fd8b",
   "metadata": {},
   "source": [
    "### 相关性分析"
   ]
  },
  {
   "cell_type": "code",
   "execution_count": null,
   "id": "ecffe241",
   "metadata": {},
   "outputs": [],
   "source": []
  },
  {
   "cell_type": "code",
   "execution_count": null,
   "id": "e1f050c1",
   "metadata": {},
   "outputs": [],
   "source": []
  },
  {
   "cell_type": "code",
   "execution_count": null,
   "id": "acae31a9",
   "metadata": {},
   "outputs": [],
   "source": []
  },
  {
   "cell_type": "code",
   "execution_count": null,
   "id": "f3506675",
   "metadata": {},
   "outputs": [],
   "source": []
  },
  {
   "cell_type": "markdown",
   "id": "e0652055",
   "metadata": {},
   "source": [
    "### 筛选出正交因子"
   ]
  },
  {
   "cell_type": "code",
   "execution_count": null,
   "id": "475e7f4b",
   "metadata": {},
   "outputs": [],
   "source": []
  },
  {
   "cell_type": "code",
   "execution_count": null,
   "id": "652f67a8",
   "metadata": {},
   "outputs": [],
   "source": []
  },
  {
   "cell_type": "code",
   "execution_count": null,
   "id": "b08b3c51",
   "metadata": {},
   "outputs": [],
   "source": []
  },
  {
   "cell_type": "code",
   "execution_count": null,
   "id": "8f12fb41",
   "metadata": {},
   "outputs": [],
   "source": []
  }
 ],
 "metadata": {
  "kernelspec": {
   "display_name": "Python 3 (ipykernel)",
   "language": "python",
   "name": "python3"
  },
  "language_info": {
   "codemirror_mode": {
    "name": "ipython",
    "version": 3
   },
   "file_extension": ".py",
   "mimetype": "text/x-python",
   "name": "python",
   "nbconvert_exporter": "python",
   "pygments_lexer": "ipython3",
   "version": "3.9.7"
  }
 },
 "nbformat": 4,
 "nbformat_minor": 5
}
