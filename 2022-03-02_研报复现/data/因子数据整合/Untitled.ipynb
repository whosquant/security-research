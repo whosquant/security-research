{
 "cells": [
  {
   "cell_type": "code",
   "execution_count": 63,
   "id": "80860eb6",
   "metadata": {},
   "outputs": [],
   "source": [
    "import pandas as pd\n",
    "import numpy as np"
   ]
  },
  {
   "cell_type": "code",
   "execution_count": 65,
   "id": "6ad608df",
   "metadata": {},
   "outputs": [],
   "source": [
    "def quarter2month(df,startdate,enddate):\n",
    "    df = df.resample(\"M\").mean().fillna(method='ffill')\n",
    "    df.index = pd.Series(df.index.astype(str)).apply(lambda x:x[:7])\n",
    "    return df[startdate:enddate]"
   ]
  },
  {
   "cell_type": "markdown",
   "id": "bc2c567e",
   "metadata": {},
   "source": [
    "### 动量因子"
   ]
  },
  {
   "cell_type": "code",
   "execution_count": 3,
   "id": "78272cc9",
   "metadata": {},
   "outputs": [],
   "source": [
    "df1 = pd.read_excel('../动量因子/FINALPRICE.xlsx').set_index('Date')"
   ]
  },
  {
   "cell_type": "code",
   "execution_count": 4,
   "id": "7234ba48",
   "metadata": {},
   "outputs": [],
   "source": [
    "M1 = ((df1-df1.shift(1))/df1.shift(1))['2011-01':'2021-12']\n",
    "M3 = (df1-df1.shift(3))/df1.shift(3)['2011-01':'2021-12']\n",
    "M6 = (df1-df1.shift(6))/df1.shift(6)['2011-01':'2021-12']\n",
    "M12 = (df1-df1.shift(12))/df1.shift(12)['2011-01':'2021-12']"
   ]
  },
  {
   "cell_type": "markdown",
   "id": "339c7a4e",
   "metadata": {},
   "source": [
    "### 价值因子"
   ]
  },
  {
   "cell_type": "code",
   "execution_count": 5,
   "id": "3dc79d96",
   "metadata": {},
   "outputs": [],
   "source": [
    "df2_1 = pd.read_excel('../价值因子/估价收益率.xlsx',header = 1).set_index('Date')\n",
    "df2_1 = quarter2month(df2_1,'2011-01','2021-12')"
   ]
  },
  {
   "cell_type": "code",
   "execution_count": 71,
   "id": "78d1fbaa",
   "metadata": {},
   "outputs": [],
   "source": [
    "df2_2 = pd.read_excel('../价值因子/票面利息.xlsx',header = 3).set_index('Date')\n",
    "df2_2 = quarter2month(df2_2,'2011-01','2021-12')"
   ]
  },
  {
   "cell_type": "code",
   "execution_count": null,
   "id": "c76e3553",
   "metadata": {},
   "outputs": [],
   "source": []
  },
  {
   "cell_type": "code",
   "execution_count": null,
   "id": "c66c98f5",
   "metadata": {},
   "outputs": [],
   "source": []
  },
  {
   "cell_type": "code",
   "execution_count": null,
   "id": "ba30a0c9",
   "metadata": {},
   "outputs": [],
   "source": []
  },
  {
   "cell_type": "markdown",
   "id": "8742059f",
   "metadata": {},
   "source": [
    "### 偿债指标"
   ]
  },
  {
   "cell_type": "code",
   "execution_count": 7,
   "id": "699a271b",
   "metadata": {},
   "outputs": [],
   "source": [
    "df3_1 = pd.read_excel('../基本面因子偿债指标/资产负债率.xlsx',header = 3).set_index('Date')\n",
    "df3_1 = quarter2month(df3_1,'2011-01','2021-12')"
   ]
  },
  {
   "cell_type": "code",
   "execution_count": 72,
   "id": "11cffb92",
   "metadata": {},
   "outputs": [],
   "source": [
    "df3_2 = pd.read_excel('../基本面因子偿债指标/流动资产与总资产比率.xlsx',header = 3).set_index('Date')\n",
    "df3_2 = quarter2month(df3_2,'2011-01','2021-12')"
   ]
  },
  {
   "cell_type": "code",
   "execution_count": null,
   "id": "e79812c7",
   "metadata": {},
   "outputs": [],
   "source": []
  },
  {
   "cell_type": "code",
   "execution_count": null,
   "id": "ac1054fa",
   "metadata": {},
   "outputs": [],
   "source": []
  },
  {
   "cell_type": "code",
   "execution_count": null,
   "id": "fd5a4e9b",
   "metadata": {},
   "outputs": [],
   "source": []
  },
  {
   "cell_type": "markdown",
   "id": "b64301b3",
   "metadata": {},
   "source": [
    "### 成长指标"
   ]
  },
  {
   "cell_type": "code",
   "execution_count": 9,
   "id": "526d552b",
   "metadata": {},
   "outputs": [],
   "source": [
    "df4_1 = pd.read_excel('../基本面因子成长指标/ROE同比增长.xlsx',header = 3).set_index('Date')\n",
    "df4_1 = quarter2month(df4_1,'2011-01','2021-12')"
   ]
  },
  {
   "cell_type": "code",
   "execution_count": 10,
   "id": "dee1294f",
   "metadata": {},
   "outputs": [],
   "source": [
    "df4_2 = pd.read_excel('../基本面因子成长指标/净利润同比增长.xlsx',header = 3).set_index('Date')\n",
    "df4_2 = quarter2month(df4_2,'2011-01','2021-12')"
   ]
  },
  {
   "cell_type": "code",
   "execution_count": 11,
   "id": "a9e9ec5c",
   "metadata": {},
   "outputs": [],
   "source": []
  },
  {
   "cell_type": "code",
   "execution_count": 12,
   "id": "1781897b",
   "metadata": {},
   "outputs": [],
   "source": []
  },
  {
   "cell_type": "code",
   "execution_count": null,
   "id": "18bf0bd0",
   "metadata": {},
   "outputs": [],
   "source": []
  },
  {
   "cell_type": "markdown",
   "id": "ff8450a1",
   "metadata": {},
   "source": [
    "数据格式处理"
   ]
  },
  {
   "cell_type": "code",
   "execution_count": null,
   "id": "a86fc89c",
   "metadata": {},
   "outputs": [],
   "source": []
  },
  {
   "cell_type": "code",
   "execution_count": null,
   "id": "88475a7e",
   "metadata": {},
   "outputs": [],
   "source": []
  },
  {
   "cell_type": "code",
   "execution_count": null,
   "id": "7398f871",
   "metadata": {},
   "outputs": [],
   "source": []
  },
  {
   "cell_type": "code",
   "execution_count": null,
   "id": "5b2b6979",
   "metadata": {},
   "outputs": [],
   "source": []
  },
  {
   "cell_type": "code",
   "execution_count": null,
   "id": "235168f2",
   "metadata": {},
   "outputs": [],
   "source": []
  },
  {
   "cell_type": "markdown",
   "id": "7ff2fd8b",
   "metadata": {},
   "source": [
    "### 相关性分析"
   ]
  },
  {
   "cell_type": "code",
   "execution_count": null,
   "id": "ecffe241",
   "metadata": {},
   "outputs": [],
   "source": []
  },
  {
   "cell_type": "code",
   "execution_count": null,
   "id": "e1f050c1",
   "metadata": {},
   "outputs": [],
   "source": []
  },
  {
   "cell_type": "code",
   "execution_count": null,
   "id": "acae31a9",
   "metadata": {},
   "outputs": [],
   "source": []
  },
  {
   "cell_type": "code",
   "execution_count": null,
   "id": "f3506675",
   "metadata": {},
   "outputs": [],
   "source": []
  },
  {
   "cell_type": "markdown",
   "id": "e0652055",
   "metadata": {},
   "source": [
    "### 筛选出正交因子"
   ]
  },
  {
   "cell_type": "code",
   "execution_count": 13,
   "id": "475e7f4b",
   "metadata": {},
   "outputs": [],
   "source": [
    "set1 = set(M1.columns.tolist())\n",
    "set2 = set(df2_1.columns.tolist())\n",
    "set3 = set(df3_1.columns.tolist())\n",
    "set4 = set(df4_1.columns.tolist())\n",
    "set5 = set(df4_2.columns.tolist())"
   ]
  },
  {
   "cell_type": "code",
   "execution_count": 28,
   "id": "d89abbb8",
   "metadata": {},
   "outputs": [],
   "source": [
    "bondlist = list(set1&set2&set3&set4&set5)\n",
    "datelist= set(M1.index.tolist())\n",
    "s1 = bondlist*len(datelist)"
   ]
  },
  {
   "cell_type": "code",
   "execution_count": 29,
   "id": "a36b5d7e",
   "metadata": {},
   "outputs": [],
   "source": [
    "demo1 = M1[bondlist]\n",
    "demo2 = df2_1[bondlist]\n",
    "demo3 = df3_1[bondlist]\n",
    "demo4 = df4_1[bondlist]\n",
    "demo5 = df4_2[bondlist]"
   ]
  },
  {
   "cell_type": "code",
   "execution_count": 30,
   "id": "063925c5",
   "metadata": {},
   "outputs": [],
   "source": [
    "s2 = []\n",
    "for i in datelist:\n",
    "    for j in bondlist:\n",
    "        s2.append(i)"
   ]
  },
  {
   "cell_type": "code",
   "execution_count": 32,
   "id": "5dc1a877",
   "metadata": {},
   "outputs": [],
   "source": [
    "df0 = pd.DataFrame()\n",
    "df0['Date'] = s2\n",
    "df0['bond'] = s1"
   ]
  },
  {
   "cell_type": "code",
   "execution_count": 27,
   "id": "72463158",
   "metadata": {},
   "outputs": [],
   "source": [
    "df0['M1'] = demo1.values.reshape(1,-1)[0]\n",
    "df0['return_on_valuation'] = demo2.values.reshape(1,-1)[0]\n",
    "df0['debt2asset'] = demo3.values.reshape(1,-1)[0]\n",
    "df0['roe_growthrate'] = demo4.values.reshape(1,-1)[0]\n",
    "df0['netprofit_growthrate'] = demo5.values.reshape(1,-1)[0]"
   ]
  },
  {
   "cell_type": "code",
   "execution_count": 66,
   "id": "b4c69ab1",
   "metadata": {},
   "outputs": [],
   "source": [
    "df0.to_excel('正交因子.xlsx')"
   ]
  },
  {
   "cell_type": "code",
   "execution_count": null,
   "id": "e3b0a69e",
   "metadata": {},
   "outputs": [],
   "source": []
  }
 ],
 "metadata": {
  "kernelspec": {
   "display_name": "Python 3 (ipykernel)",
   "language": "python",
   "name": "python3"
  },
  "language_info": {
   "codemirror_mode": {
    "name": "ipython",
    "version": 3
   },
   "file_extension": ".py",
   "mimetype": "text/x-python",
   "name": "python",
   "nbconvert_exporter": "python",
   "pygments_lexer": "ipython3",
   "version": "3.9.7"
  }
 },
 "nbformat": 4,
 "nbformat_minor": 5
}
