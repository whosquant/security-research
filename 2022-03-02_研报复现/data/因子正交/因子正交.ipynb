{
 "cells": [
  {
   "cell_type": "code",
   "execution_count": 66,
   "id": "34d8e3b6",
   "metadata": {},
   "outputs": [],
   "source": [
    "import pandas as pd\n",
    "#导入线性回归\n",
    "from sklearn.linear_model import LinearRegression\n",
    "import statsmodels.api as sm\n",
    "import numpy as np"
   ]
  },
  {
   "cell_type": "code",
   "execution_count": 2,
   "id": "d061b5d8",
   "metadata": {},
   "outputs": [],
   "source": [
    "df1 = pd.read_excel('../因子数据整合/正交因子.xlsx')"
   ]
  },
  {
   "cell_type": "markdown",
   "id": "606ab348",
   "metadata": {},
   "source": [
    "### 核心原因在于选股因子间的截面相关性较不稳定。\n",
    "\n",
    "### 选股因子截面相关性在本文中具体指在某一时点上，某两个选股因子截面因子值之间的线性相关性。"
   ]
  },
  {
   "cell_type": "markdown",
   "id": "cbf0b16a",
   "metadata": {},
   "source": [
    "### 逐步添加变量，逐步正交"
   ]
  },
  {
   "cell_type": "markdown",
   "id": "f2733632",
   "metadata": {},
   "source": [
    "1） 对于正交顺序第一的因子，其正交因子值就等于其原始因子值；\n",
    "\n",
    "2） 对于正交顺序第 k（k>1）的因子，将其原始因子值作为回归的因变量，现有的\n",
    "已经正交过的因子作为回归的自变量，取回归残差为正交因子 k 的因子值；\n",
    "\n",
    "3） 将正交因子 k 放入已经正交过的因子集合并对于正交顺序为 k+1 的因子进行步\n",
    "骤（2）、（3）的处理。"
   ]
  },
  {
   "cell_type": "code",
   "execution_count": 53,
   "id": "2913e54b",
   "metadata": {},
   "outputs": [],
   "source": [
    "df2 = df1.dropna()"
   ]
  },
  {
   "cell_type": "code",
   "execution_count": 110,
   "id": "fbaef02a",
   "metadata": {},
   "outputs": [],
   "source": [
    "def get_zj_matrix(df2):\n",
    "    varlist = df2.columns.tolist()[3:]\n",
    "    df3 =pd.DataFrame()\n",
    "    df3[varlist[0]] = df2[varlist[0]]\n",
    "    for i in range(1,len(varlist)):\n",
    "        y = df2[varlist[i]].values.reshape(-1,1)\n",
    "        x = df3.values\n",
    "#         print(x.shape)\n",
    "#         print(y.shape)\n",
    "        model = LinearRegression()\n",
    "        #train\n",
    "        model.fit(x,y)\n",
    "        beta = model.coef_\n",
    "        alpha = model.intercept_\n",
    "        print(alpha)\n",
    "        resid = (y - np.dot(x,beta.T)-alpha)\n",
    "        df3[varlist[i]] = resid\n",
    "    return df3"
   ]
  },
  {
   "cell_type": "code",
   "execution_count": 112,
   "id": "3985f8a6",
   "metadata": {},
   "outputs": [
    {
     "name": "stdout",
     "output_type": "stream",
     "text": [
      "[5.6737521]\n",
      "[54.32040992]\n",
      "[144.10262664]\n",
      "[62.1915065]\n"
     ]
    }
   ],
   "source": [
    "df3 = get_zj_matrix(df2)"
   ]
  },
  {
   "cell_type": "code",
   "execution_count": 116,
   "id": "a96c4467",
   "metadata": {},
   "outputs": [],
   "source": [
    "df3['Date'] = df2['Date'] \n",
    "df3['bond'] = df2['bond'] "
   ]
  },
  {
   "cell_type": "code",
   "execution_count": 118,
   "id": "52ae2cbf",
   "metadata": {},
   "outputs": [],
   "source": [
    "df3['integrated_var'] = (1/3)*df3['M1']+(1/3)*df3['return_on_valuation']+(1/9)*df3['debt2asset']+(1/9)*df3['roe_growthrate']+(1/9)*df3['netprofit_growthrate']"
   ]
  },
  {
   "cell_type": "code",
   "execution_count": 121,
   "id": "1a8ba526",
   "metadata": {},
   "outputs": [],
   "source": [
    "df3[['Date','bond','integrated_var']].to_excel('正交因子.xlsx')"
   ]
  },
  {
   "cell_type": "code",
   "execution_count": null,
   "id": "19778e48",
   "metadata": {},
   "outputs": [],
   "source": []
  }
 ],
 "metadata": {
  "kernelspec": {
   "display_name": "Python 3 (ipykernel)",
   "language": "python",
   "name": "python3"
  },
  "language_info": {
   "codemirror_mode": {
    "name": "ipython",
    "version": 3
   },
   "file_extension": ".py",
   "mimetype": "text/x-python",
   "name": "python",
   "nbconvert_exporter": "python",
   "pygments_lexer": "ipython3",
   "version": "3.9.7"
  }
 },
 "nbformat": 4,
 "nbformat_minor": 5
}
