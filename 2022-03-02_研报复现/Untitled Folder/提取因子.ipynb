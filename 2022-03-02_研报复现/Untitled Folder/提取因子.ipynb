{
 "cells": [
  {
   "cell_type": "markdown",
   "id": "c7ab2cac",
   "metadata": {},
   "source": [
    "### 提取因子"
   ]
  },
  {
   "cell_type": "code",
   "execution_count": 1,
   "id": "ee019885",
   "metadata": {},
   "outputs": [],
   "source": [
    "import pandas as pd\n",
    "import numpy as np"
   ]
  },
  {
   "cell_type": "code",
   "execution_count": 2,
   "id": "2273aac0",
   "metadata": {},
   "outputs": [],
   "source": [
    "df1 = pd.read_excel('FINALPRICE.xlsx')"
   ]
  },
  {
   "cell_type": "code",
   "execution_count": 10,
   "id": "1de3ecec",
   "metadata": {},
   "outputs": [],
   "source": [
    "df1.set_index('Date',inplace = True)"
   ]
  },
  {
   "cell_type": "code",
   "execution_count": 44,
   "id": "04f40ba6",
   "metadata": {},
   "outputs": [],
   "source": [
    "M1 = (df1-df1.shift(1))/df1.shift(1)\n",
    "M3 = (df1-df1.shift(3))/df1.shift(3)\n",
    "M6 = (df1-df1.shift(6))/df1.shift(6)\n",
    "M12 = (df1-df1.shift(12))/df1.shift(12)\n",
    "y = M1.shift(-1)"
   ]
  },
  {
   "cell_type": "code",
   "execution_count": 22,
   "id": "81e97a48",
   "metadata": {},
   "outputs": [
    {
     "data": {
      "text/plain": [
       "array([[nan, nan, nan, ..., nan, nan, nan]])"
      ]
     },
     "execution_count": 22,
     "metadata": {},
     "output_type": "execute_result"
    }
   ],
   "source": [
    "M1.values.reshape(1,-1)"
   ]
  },
  {
   "cell_type": "code",
   "execution_count": 25,
   "id": "548d8c0c",
   "metadata": {},
   "outputs": [
    {
     "data": {
      "text/plain": [
       "array([[ 0.1981851 , -1.18554053, -0.09332306,  0.59612748],\n",
       "       [ 2.23752293, -1.80055508, -0.12847619, -0.58000573],\n",
       "       [ 0.25620415,  1.90802736,  1.46880648, -1.50947961]])"
      ]
     },
     "execution_count": 25,
     "metadata": {},
     "output_type": "execute_result"
    }
   ],
   "source": [
    "a = np.random.randn(12).reshape(3,4)\n",
    "a"
   ]
  },
  {
   "cell_type": "code",
   "execution_count": 26,
   "id": "1a1b4347",
   "metadata": {},
   "outputs": [
    {
     "data": {
      "text/plain": [
       "array([[ 0.1981851 , -1.18554053, -0.09332306,  0.59612748,  2.23752293,\n",
       "        -1.80055508, -0.12847619, -0.58000573,  0.25620415,  1.90802736,\n",
       "         1.46880648, -1.50947961]])"
      ]
     },
     "execution_count": 26,
     "metadata": {},
     "output_type": "execute_result"
    }
   ],
   "source": [
    "a.reshape(1,-1)"
   ]
  },
  {
   "cell_type": "code",
   "execution_count": 31,
   "id": "846d6919",
   "metadata": {},
   "outputs": [],
   "source": [
    "datelist = df1.index.tolist()"
   ]
  },
  {
   "cell_type": "code",
   "execution_count": 33,
   "id": "14a67926",
   "metadata": {},
   "outputs": [],
   "source": [
    "bondlist =df1.columns.tolist() "
   ]
  },
  {
   "cell_type": "code",
   "execution_count": 34,
   "id": "e0fcd193",
   "metadata": {},
   "outputs": [],
   "source": [
    "s1 = bondlist*len(datelist)"
   ]
  },
  {
   "cell_type": "code",
   "execution_count": 36,
   "id": "a08aac17",
   "metadata": {},
   "outputs": [],
   "source": [
    "s2 = []\n",
    "for i in datelist:\n",
    "    for j in bondlist:\n",
    "        s2.append(i)\n",
    "        "
   ]
  },
  {
   "cell_type": "code",
   "execution_count": 38,
   "id": "f54ad2a0",
   "metadata": {},
   "outputs": [],
   "source": [
    "df0 = pd.DataFrame()\n",
    "df0['Date'] = s2\n",
    "df0['bond'] = s1"
   ]
  },
  {
   "cell_type": "code",
   "execution_count": 45,
   "id": "27568b9d",
   "metadata": {},
   "outputs": [],
   "source": [
    "df0['M1'] = M1.values.reshape(1,-1)[0]\n",
    "df0['M3'] = M3.values.reshape(1,-1)[0]\n",
    "df0['M6'] = M6.values.reshape(1,-1)[0]\n",
    "df0['M12'] = M12.values.reshape(1,-1)[0]\n",
    "df0['y'] = y.values.reshape(1,-1)[0]"
   ]
  },
  {
   "cell_type": "code",
   "execution_count": 47,
   "id": "3f28c2ae",
   "metadata": {},
   "outputs": [],
   "source": [
    "df0.to_excel('demofactor.xlsx')"
   ]
  },
  {
   "cell_type": "code",
   "execution_count": 49,
   "id": "e390631f",
   "metadata": {},
   "outputs": [
    {
     "ename": "AttributeError",
     "evalue": "module 'pandas' has no attribute 'to_excel'",
     "output_type": "error",
     "traceback": [
      "\u001b[1;31m---------------------------------------------------------------------------\u001b[0m",
      "\u001b[1;31mAttributeError\u001b[0m                            Traceback (most recent call last)",
      "\u001b[1;32m~\\AppData\\Local\\Temp/ipykernel_12408/1940120465.py\u001b[0m in \u001b[0;36m<module>\u001b[1;34m\u001b[0m\n\u001b[1;32m----> 1\u001b[1;33m \u001b[0mpd\u001b[0m\u001b[1;33m.\u001b[0m\u001b[0mto_excel\u001b[0m\u001b[1;33m(\u001b[0m\u001b[1;36m1\u001b[0m\u001b[1;33m)\u001b[0m\u001b[1;33m\u001b[0m\u001b[1;33m\u001b[0m\u001b[0m\n\u001b[0m",
      "\u001b[1;32m~\\Anaconda3\\lib\\site-packages\\pandas\\__init__.py\u001b[0m in \u001b[0;36m__getattr__\u001b[1;34m(name)\u001b[0m\n\u001b[0;32m    259\u001b[0m         \u001b[1;32mreturn\u001b[0m \u001b[0m_SparseArray\u001b[0m\u001b[1;33m\u001b[0m\u001b[1;33m\u001b[0m\u001b[0m\n\u001b[0;32m    260\u001b[0m \u001b[1;33m\u001b[0m\u001b[0m\n\u001b[1;32m--> 261\u001b[1;33m     \u001b[1;32mraise\u001b[0m \u001b[0mAttributeError\u001b[0m\u001b[1;33m(\u001b[0m\u001b[1;34mf\"module 'pandas' has no attribute '{name}'\"\u001b[0m\u001b[1;33m)\u001b[0m\u001b[1;33m\u001b[0m\u001b[1;33m\u001b[0m\u001b[0m\n\u001b[0m\u001b[0;32m    262\u001b[0m \u001b[1;33m\u001b[0m\u001b[0m\n\u001b[0;32m    263\u001b[0m \u001b[1;33m\u001b[0m\u001b[0m\n",
      "\u001b[1;31mAttributeError\u001b[0m: module 'pandas' has no attribute 'to_excel'"
     ]
    }
   ],
   "source": [
    "pd.to_excel(1)"
   ]
  },
  {
   "cell_type": "code",
   "execution_count": null,
   "id": "79dafe8a",
   "metadata": {},
   "outputs": [],
   "source": [
    "def quanrter2month(df):"
   ]
  }
 ],
 "metadata": {
  "kernelspec": {
   "display_name": "Python 3 (ipykernel)",
   "language": "python",
   "name": "python3"
  },
  "language_info": {
   "codemirror_mode": {
    "name": "ipython",
    "version": 3
   },
   "file_extension": ".py",
   "mimetype": "text/x-python",
   "name": "python",
   "nbconvert_exporter": "python",
   "pygments_lexer": "ipython3",
   "version": "3.9.7"
  }
 },
 "nbformat": 4,
 "nbformat_minor": 5
}
