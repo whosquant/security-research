{
 "cells": [
  {
   "cell_type": "code",
   "execution_count": 2,
   "id": "a8ac61a1",
   "metadata": {},
   "outputs": [],
   "source": [
    "import pandas as pd"
   ]
  },
  {
   "cell_type": "code",
   "execution_count": 3,
   "id": "47d9f15b",
   "metadata": {},
   "outputs": [],
   "source": [
    "df0 = pd.read_excel('data.xlsx')"
   ]
  },
  {
   "cell_type": "code",
   "execution_count": 4,
   "id": "4ee09c36",
   "metadata": {},
   "outputs": [],
   "source": [
    "df0['year'] = df0['基金成立日'].apply(lambda x:str(x)[:4])"
   ]
  },
  {
   "cell_type": "markdown",
   "id": "05d9d24f",
   "metadata": {},
   "source": [
    "图一"
   ]
  },
  {
   "cell_type": "code",
   "execution_count": 5,
   "id": "a14a0c82",
   "metadata": {},
   "outputs": [],
   "source": [
    "totalnum = df0['year'].value_counts(ascending= True).cumsum()"
   ]
  },
  {
   "cell_type": "code",
   "execution_count": 7,
   "id": "8074f9b6",
   "metadata": {},
   "outputs": [],
   "source": [
    "bondnum = df0.loc[df0['投资类型\\n[基金分类] 投资类型(一级分类)'] == '债券型基金' ]['year'].value_counts().sort_index().cumsum()"
   ]
  },
  {
   "cell_type": "code",
   "execution_count": 8,
   "id": "11890cd8",
   "metadata": {},
   "outputs": [],
   "source": [
    "s1 = (bondnum/totalnum)[9:]\n",
    "s1.name = 'prop'\n",
    "s2 = bondnum[8:]\n",
    "s2.name = 'num'"
   ]
  },
  {
   "cell_type": "code",
   "execution_count": 9,
   "id": "c75ffaaf",
   "metadata": {},
   "outputs": [],
   "source": [
    "df1 = pd.concat([s1,s2],axis = 1)\n",
    "df1.to_excel('1.xlsx')"
   ]
  },
  {
   "cell_type": "code",
   "execution_count": 10,
   "id": "38d34f92",
   "metadata": {},
   "outputs": [
    {
     "data": {
      "text/html": [
       "<div>\n",
       "<style scoped>\n",
       "    .dataframe tbody tr th:only-of-type {\n",
       "        vertical-align: middle;\n",
       "    }\n",
       "\n",
       "    .dataframe tbody tr th {\n",
       "        vertical-align: top;\n",
       "    }\n",
       "\n",
       "    .dataframe thead th {\n",
       "        text-align: right;\n",
       "    }\n",
       "</style>\n",
       "<table border=\"1\" class=\"dataframe\">\n",
       "  <thead>\n",
       "    <tr style=\"text-align: right;\">\n",
       "      <th></th>\n",
       "      <th>prop</th>\n",
       "      <th>num</th>\n",
       "    </tr>\n",
       "  </thead>\n",
       "  <tbody>\n",
       "    <tr>\n",
       "      <th>2010</th>\n",
       "      <td>0.203652</td>\n",
       "      <td>145</td>\n",
       "    </tr>\n",
       "    <tr>\n",
       "      <th>2011</th>\n",
       "      <td>0.216667</td>\n",
       "      <td>195</td>\n",
       "    </tr>\n",
       "    <tr>\n",
       "      <th>2012</th>\n",
       "      <td>0.257294</td>\n",
       "      <td>291</td>\n",
       "    </tr>\n",
       "    <tr>\n",
       "      <th>2013</th>\n",
       "      <td>0.305277</td>\n",
       "      <td>457</td>\n",
       "    </tr>\n",
       "    <tr>\n",
       "      <th>2014</th>\n",
       "      <td>0.278265</td>\n",
       "      <td>539</td>\n",
       "    </tr>\n",
       "    <tr>\n",
       "      <th>2015</th>\n",
       "      <td>0.180961</td>\n",
       "      <td>633</td>\n",
       "    </tr>\n",
       "    <tr>\n",
       "      <th>2016</th>\n",
       "      <td>0.153910</td>\n",
       "      <td>1106</td>\n",
       "    </tr>\n",
       "    <tr>\n",
       "      <th>2017</th>\n",
       "      <td>0.312527</td>\n",
       "      <td>1447</td>\n",
       "    </tr>\n",
       "    <tr>\n",
       "      <th>2018</th>\n",
       "      <td>0.333849</td>\n",
       "      <td>1942</td>\n",
       "    </tr>\n",
       "    <tr>\n",
       "      <th>2019</th>\n",
       "      <td>0.307379</td>\n",
       "      <td>2720</td>\n",
       "    </tr>\n",
       "    <tr>\n",
       "      <th>2020</th>\n",
       "      <td>0.310543</td>\n",
       "      <td>3520</td>\n",
       "    </tr>\n",
       "    <tr>\n",
       "      <th>2021</th>\n",
       "      <td>0.284673</td>\n",
       "      <td>4298</td>\n",
       "    </tr>\n",
       "    <tr>\n",
       "      <th>2022</th>\n",
       "      <td>1.741564</td>\n",
       "      <td>4387</td>\n",
       "    </tr>\n",
       "  </tbody>\n",
       "</table>\n",
       "</div>"
      ],
      "text/plain": [
       "          prop   num\n",
       "2010  0.203652   145\n",
       "2011  0.216667   195\n",
       "2012  0.257294   291\n",
       "2013  0.305277   457\n",
       "2014  0.278265   539\n",
       "2015  0.180961   633\n",
       "2016  0.153910  1106\n",
       "2017  0.312527  1447\n",
       "2018  0.333849  1942\n",
       "2019  0.307379  2720\n",
       "2020  0.310543  3520\n",
       "2021  0.284673  4298\n",
       "2022  1.741564  4387"
      ]
     },
     "execution_count": 10,
     "metadata": {},
     "output_type": "execute_result"
    }
   ],
   "source": [
    "df1"
   ]
  },
  {
   "cell_type": "markdown",
   "id": "768b0171",
   "metadata": {},
   "source": [
    "图二"
   ]
  },
  {
   "cell_type": "code",
   "execution_count": 13,
   "id": "066b3961",
   "metadata": {},
   "outputs": [],
   "source": [
    "bondsize = df0.loc[df0['投资类型\\n[基金分类] 投资类型(一级分类)'] == '债券型基金' ].groupby(df0['year']).sum()['基金规模\\n[单位] 元'].cumsum()\n",
    "allsize = df0.groupby(df0['year']).sum()['基金规模\\n[单位] 元'].cumsum()"
   ]
  },
  {
   "cell_type": "code",
   "execution_count": 14,
   "id": "d5117cdb",
   "metadata": {},
   "outputs": [],
   "source": [
    "s1 = (bondsize/allsize)[9:]\n",
    "s1.name = 'prop'\n",
    "s2 = bondsize[8:]\n",
    "s2.name = 'size'"
   ]
  },
  {
   "cell_type": "code",
   "execution_count": 15,
   "id": "336488d2",
   "metadata": {},
   "outputs": [],
   "source": [
    "df2 = pd.concat([s1,s2],axis = 1)"
   ]
  },
  {
   "cell_type": "code",
   "execution_count": 17,
   "id": "0f028013",
   "metadata": {},
   "outputs": [],
   "source": [
    "df2.to_excel('2.xlsx')"
   ]
  },
  {
   "cell_type": "markdown",
   "id": "4a4f0f6b",
   "metadata": {},
   "source": [
    "图三"
   ]
  },
  {
   "cell_type": "code",
   "execution_count": 22,
   "id": "7a5c484e",
   "metadata": {},
   "outputs": [],
   "source": [
    "df0['投资类型\\n[基金分类] 投资类型(一级分类)'].value_counts().to_excel('3.xlsx')"
   ]
  },
  {
   "cell_type": "markdown",
   "id": "13446890",
   "metadata": {},
   "source": [
    "图四"
   ]
  },
  {
   "cell_type": "code",
   "execution_count": 25,
   "id": "b4500fee",
   "metadata": {},
   "outputs": [],
   "source": [
    "(df0['投资类型\\n[基金分类] 投资类型(一级分类)'].value_counts()/(df0['投资类型\\n[基金分类] 投资类型(一级分类)'].value_counts().sum())).to_excel('4.xlsx')"
   ]
  },
  {
   "cell_type": "markdown",
   "id": "5aa40280",
   "metadata": {},
   "source": [
    "图五"
   ]
  },
  {
   "cell_type": "code",
   "execution_count": 35,
   "id": "d15e3dba",
   "metadata": {},
   "outputs": [],
   "source": [
    "df5 = df0[df0['投资类型\\n[基金分类] 投资类型(一级分类)'] =='债券型基金'].groupby('投资类型(二级分类)↑').sum()['基金规模\\n[单位] 元']"
   ]
  },
  {
   "cell_type": "code",
   "execution_count": 36,
   "id": "c683afb9",
   "metadata": {},
   "outputs": [],
   "source": [
    "df5.to_excel('5.xlsx')"
   ]
  },
  {
   "cell_type": "markdown",
   "id": "cd69515f",
   "metadata": {},
   "source": [
    "图六"
   ]
  },
  {
   "cell_type": "code",
   "execution_count": 37,
   "id": "ffab0be3",
   "metadata": {},
   "outputs": [],
   "source": [
    "df6 = df5/df5.sum()"
   ]
  },
  {
   "cell_type": "code",
   "execution_count": 39,
   "id": "8d8afd7d",
   "metadata": {},
   "outputs": [],
   "source": [
    "df6.to_excel('6.xlsx')"
   ]
  },
  {
   "cell_type": "code",
   "execution_count": null,
   "id": "547c5dea",
   "metadata": {},
   "outputs": [],
   "source": []
  }
 ],
 "metadata": {
  "kernelspec": {
   "display_name": "Python 3 (ipykernel)",
   "language": "python",
   "name": "python3"
  },
  "language_info": {
   "codemirror_mode": {
    "name": "ipython",
    "version": 3
   },
   "file_extension": ".py",
   "mimetype": "text/x-python",
   "name": "python",
   "nbconvert_exporter": "python",
   "pygments_lexer": "ipython3",
   "version": "3.9.7"
  }
 },
 "nbformat": 4,
 "nbformat_minor": 5
}
